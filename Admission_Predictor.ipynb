{
  "nbformat": 4,
  "nbformat_minor": 0,
  "metadata": {
    "colab": {
      "provenance": [],
      "mount_file_id": "1LjTrPyVABwhE-mL_gvl4ePr93FWpQ59x",
      "authorship_tag": "ABX9TyOGtjmslPI0sBOtMMfUB32f",
      "include_colab_link": true
    },
    "kernelspec": {
      "name": "python3",
      "display_name": "Python 3"
    },
    "language_info": {
      "name": "python"
    }
  },
  "cells": [
    {
      "cell_type": "markdown",
      "metadata": {
        "id": "view-in-github",
        "colab_type": "text"
      },
      "source": [
        "<a href=\"https://colab.research.google.com/github/om-ashish-soni/admission_predictor/blob/main/Admission_Predictor.ipynb\" target=\"_parent\"><img src=\"https://colab.research.google.com/assets/colab-badge.svg\" alt=\"Open In Colab\"/></a>"
      ]
    },
    {
      "cell_type": "code",
      "execution_count": 95,
      "metadata": {
        "colab": {
          "base_uri": "https://localhost:8080/"
        },
        "id": "5E_iInr9979K",
        "outputId": "f8419619-3083-4b83-cd0a-ac5112bb53e0"
      },
      "outputs": [
        {
          "output_type": "stream",
          "name": "stdout",
          "text": [
            "0  => loss :  tensor(3313.3870, grad_fn=<MseLossBackward0>)\n",
            "10000  => loss :  tensor(2.6326, grad_fn=<MseLossBackward0>)\n",
            "20000  => loss :  tensor(0.0084, grad_fn=<MseLossBackward0>)\n",
            "30000  => loss :  tensor(0.0042, grad_fn=<MseLossBackward0>)\n",
            "40000  => loss :  tensor(0.0040, grad_fn=<MseLossBackward0>)\n",
            "50000  => loss :  tensor(0.0040, grad_fn=<MseLossBackward0>)\n",
            "60000  => loss :  tensor(0.0040, grad_fn=<MseLossBackward0>)\n",
            "70000  => loss :  tensor(0.0040, grad_fn=<MseLossBackward0>)\n",
            "80000  => loss :  tensor(0.0040, grad_fn=<MseLossBackward0>)\n",
            "90000  => loss :  tensor(0.0040, grad_fn=<MseLossBackward0>)\n"
          ]
        }
      ],
      "source": [
        "file_path='/content/drive/MyDrive/Machine Learning/datasets/admission_predictor/adm_data.csv'\n",
        "\n",
        "import pandas as pd\n",
        "import torch.nn as nn\n",
        "from torch.optim import SGD,Adam\n",
        "from torch import tensor\n",
        "from torch.nn import Linear\n",
        "import torch\n",
        "\n",
        "\n",
        "df=pd.read_csv(file_path)\n",
        "\n",
        "\n",
        "\n",
        "cols=list(df.columns)\n",
        "\n",
        "\n",
        "X=tensor(df[cols[1:len(cols)-1]].values,dtype=torch.float32)\n",
        "\n",
        "y=tensor(df[cols[len(cols)-1:len(cols)]].values,dtype=torch.float32)\n",
        "\n",
        "\n",
        "model=nn.Linear(len(X[0]),len(y[0]))\n",
        "\n",
        "criterion=nn.MSELoss()\n",
        "\n",
        "optimizer=Adam(model.parameters(),lr=0.0001)\n",
        "\n",
        "epochs=100000\n",
        "\n",
        "for _ in range(epochs):\n",
        "\n",
        "  ypred=model(X)\n",
        "  # print(ypred)\n",
        "  loss=criterion(ypred,y)\n",
        "\n",
        "  if(_%10000 == 0) : print(_,\" => loss : \",loss)\n",
        "\n",
        "  optimizer.zero_grad()\n",
        "\n",
        "  loss.backward()\n",
        "\n",
        "  optimizer.step()\n",
        "\n",
        "torch.save(model.state_dict(), '/content/drive/MyDrive/Machine Learning/datasets/admission_predictor/trained_model.pth')\n",
        "\n"
      ]
    },
    {
      "cell_type": "markdown",
      "source": [
        "Loading saved model\n"
      ],
      "metadata": {
        "id": "JeumP_y7VMAg"
      }
    },
    {
      "cell_type": "code",
      "source": [
        "file_path='/content/drive/MyDrive/Machine Learning/datasets/admission_predictor/adm_data.csv'\n",
        "\n",
        "import pandas as pd\n",
        "import torch.nn as nn\n",
        "from torch.optim import SGD,Adam\n",
        "from torch import tensor\n",
        "from torch.nn import Linear\n",
        "import numpy as np\n",
        "import torch\n",
        "from sklearn.metrics import r2_score\n",
        "\n",
        "df=pd.read_csv(file_path)\n",
        "\n",
        "\n",
        "\n",
        "cols=list(df.columns)\n",
        "\n",
        "\n",
        "\n",
        "X=tensor(df[cols[1:len(cols)-1]].values,dtype=torch.float32)\n",
        "\n",
        "y=tensor(df[cols[len(cols)-1:len(cols)]].values,dtype=torch.float32)\n",
        "\n",
        "\n",
        "model = nn.Linear(len(X[0]), len(y[0]))  # Create the model architecture as before\n",
        "\n",
        "model.load_state_dict(torch.load('/content/drive/MyDrive/Machine Learning/datasets/admission_predictor/trained_model.pth'))\n",
        "\n",
        "model.eval()\n",
        "\n",
        "with torch.no_grad():\n",
        "    y = y.numpy()\n",
        "    y_pred = model(X).numpy()\n",
        "\n",
        "    # Calculate Root Mean Squared Error (RMSE)\n",
        "    rmse = np.sqrt(np.mean((y_pred - y)**2))\n",
        "    print(\"RMSE:\", rmse)\n",
        "\n",
        "    r2 = r2_score(y, y_pred)\n",
        "    print(\"R2 Score:\", r2)\n",
        "\n",
        "print(model.weight)\n",
        "print(model.bias)\n",
        "\n",
        "\n",
        "print(df.columns)"
      ],
      "metadata": {
        "colab": {
          "base_uri": "https://localhost:8080/"
        },
        "id": "i48onwgZVNx8",
        "outputId": "2602c45e-8331-42a5-9e43-61db4f367cba"
      },
      "execution_count": 96,
      "outputs": [
        {
          "output_type": "stream",
          "name": "stdout",
          "text": [
            "RMSE: 0.06314264\n",
            "R2 Score: 0.8034664342128806\n",
            "Parameter containing:\n",
            "tensor([[ 0.0017,  0.0029,  0.0059, -0.0033,  0.0224,  0.1191,  0.0248]],\n",
            "       requires_grad=True)\n",
            "Parameter containing:\n",
            "tensor([-1.2470], requires_grad=True)\n",
            "Index(['Serial No.', 'GRE Score', 'TOEFL Score', 'University Rating', 'SOP',\n",
            "       'LOR ', 'CGPA', 'Research', 'Chance of Admit '],\n",
            "      dtype='object')\n"
          ]
        }
      ]
    }
  ]
}